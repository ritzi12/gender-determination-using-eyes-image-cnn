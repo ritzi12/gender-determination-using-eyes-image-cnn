{
  "nbformat": 4,
  "nbformat_minor": 0,
  "metadata": {
    "accelerator": "GPU",
    "colab": {
      "name": "DPhi_Datathon_DLBootcamp.ipynb",
      "provenance": [],
      "collapsed_sections": [],
      "toc_visible": true,
      "authorship_tag": "ABX9TyOoIml4fb2Sx4RRyvVjacor",
      "include_colab_link": true
    },
    "kernelspec": {
      "display_name": "Python 3",
      "name": "python3"
    },
    "language_info": {
      "name": "python"
    }
  },
  "cells": [
    {
      "cell_type": "markdown",
      "metadata": {
        "id": "view-in-github",
        "colab_type": "text"
      },
      "source": [
        "<a href=\"https://colab.research.google.com/github/ritzi12/gender-determination-using-eyes-image-cnn/blob/main/DPhi_Datathon_DLBootcamp.ipynb\" target=\"_parent\"><img src=\"https://colab.research.google.com/assets/colab-badge.svg\" alt=\"Open In Colab\"/></a>"
      ]
    },
    {
      "cell_type": "markdown",
      "metadata": {
        "id": "Glayupdg4aOl"
      },
      "source": [
        "# **Gender Determination by Morphometry of Eyes**"
      ]
    },
    {
      "cell_type": "markdown",
      "metadata": {
        "id": "4FwyuRBjllPj"
      },
      "source": [
        "\n",
        "\n",
        "> ##### **AUTHOR** : RITIKA GUPTA\n",
        "> ##### *DPhi Profile Link:* https://dphi.tech/profile/ritika12/\n",
        "\n",
        "\n"
      ]
    },
    {
      "cell_type": "markdown",
      "metadata": {
        "id": "qPp_rFv0HCkN"
      },
      "source": [
        "## Download the images\n",
        "\n",
        "\n",
        "We can use **GoogleDriveDownloader** form **google_drive_downloader** library in Python to download the shared files from the shared Google drive link: https://drive.google.com/file/d/1f7uslI-ZHidriQFZR966_aILjlkgDN76/view?usp=sharing\n",
        "\n",
        "The file id in the above link is: **1f7uslI-ZHidriQFZR966_aILjlkgDN76**"
      ]
    },
    {
      "cell_type": "code",
      "metadata": {
        "colab": {
          "base_uri": "https://localhost:8080/"
        },
        "id": "9WAFWh2BHJDZ",
        "outputId": "b94f015d-d5d8-47cc-eb77-ee6b8f023044"
      },
      "source": [
        "from google_drive_downloader import GoogleDriveDownloader as gdd\n",
        "\n",
        "gdd.download_file_from_google_drive(file_id='1f7uslI-ZHidriQFZR966_aILjlkgDN76',\n",
        "                                    dest_path='content/eye_gender_data.zip',\n",
        "                                    unzip=True)"
      ],
      "execution_count": null,
      "outputs": [
        {
          "output_type": "stream",
          "text": [
            "Downloading 1f7uslI-ZHidriQFZR966_aILjlkgDN76 into content/eye_gender_data.zip... Done.\n",
            "Unzipping...Done.\n"
          ],
          "name": "stdout"
        }
      ]
    },
    {
      "cell_type": "markdown",
      "metadata": {
        "id": "IV-nUSQgHTnZ"
      },
      "source": [
        "We have all the files from the shared Google drive link downloaded in the colab environment."
      ]
    },
    {
      "cell_type": "markdown",
      "metadata": {
        "id": "SzyVNI3BHdTn"
      },
      "source": [
        "## Loading Libraries\n",
        "All Python capabilities are not loaded to our working environment by default (even they are already installed in your system). So, we import each and every library that we want to use.\n",
        "\n",
        "We chose alias names for our libraries for the sake of our convenience (numpy --> np and pandas --> pd, tensorlow --> tf).\n",
        "\n",
        "Note: You can import all the libraries that you think will be required or can import it as you go along."
      ]
    },
    {
      "cell_type": "code",
      "metadata": {
        "id": "QW_3T2d1HVTc"
      },
      "source": [
        "import pandas as pd                                     # Data analysis and manipulation tool\n",
        "import numpy as np                                      # Fundamental package for linear algebra and multidimensional arrays\n",
        "import tensorflow as tf                                 # Deep Learning Tool\n",
        "import os                                               # OS module in Python provides a way of using operating system dependent functionality\n",
        "import cv2                                              # Library for image processing\n",
        "from sklearn.model_selection import train_test_split    # For splitting the data into train and validation set\n",
        "from sklearn.metrics import f1_score\n",
        "from google.colab.patches import cv2_imshow             #To display images in colab for jupyter use cv2.imshow() method\n",
        "\n",
        "from tensorflow.keras.callbacks import TensorBoard      #Tensor Flow Visual Dashboard\n",
        "import datetime                                         #Required to create log directory based on timestamp\n"
      ],
      "execution_count": null,
      "outputs": []
    },
    {
      "cell_type": "code",
      "metadata": {
        "colab": {
          "base_uri": "https://localhost:8080/"
        },
        "id": "W5dADcjSPZsA",
        "outputId": "a9b1d7d1-ac91-484d-fc1f-d2fbba590702"
      },
      "source": [
        "#Check GPUs \n",
        "print(\"Num GPUs Available: \", len(tf.config.experimental.list_physical_devices('GPU')))"
      ],
      "execution_count": null,
      "outputs": [
        {
          "output_type": "stream",
          "text": [
            "Num GPUs Available:  1\n"
          ],
          "name": "stdout"
        }
      ]
    },
    {
      "cell_type": "markdown",
      "metadata": {
        "id": "zE6EtiSULT0f"
      },
      "source": [
        "## Loading and preparing training data"
      ]
    },
    {
      "cell_type": "code",
      "metadata": {
        "colab": {
          "base_uri": "https://localhost:8080/",
          "height": 93
        },
        "id": "xr57cFw7LUYL",
        "outputId": "d790f4c7-f967-4864-865b-7538bffcf272"
      },
      "source": [
        "labels = pd.read_csv(\"/content/content/eye_gender_data/Training_set.csv\")   # loading the labels\n",
        "file_paths = [[fname, '/content/content/eye_gender_data/train/' + fname] for fname in labels['filename']]\n",
        "images = pd.DataFrame(file_paths, columns=['filename', 'filepaths'])\n",
        "train_data = pd.merge(images, labels, how = 'inner', on = 'filename')\n",
        "\n",
        "\n",
        "#Checking train images\n",
        "imgg=cv2.imread(train_data['filepaths'][1], cv2.IMREAD_COLOR)\n",
        "print(\"Image Shape:\",imgg.shape)\n",
        "cv2_imshow(imgg)\n",
        "#cv2.waitKey(0)\n",
        "#cv2.destroyAllWindows()\n"
      ],
      "execution_count": null,
      "outputs": [
        {
          "output_type": "stream",
          "text": [
            "Image Shape: (58, 58, 3)\n"
          ],
          "name": "stdout"
        },
        {
          "output_type": "display_data",
          "data": {
            "image/png": "[encoded data removed]",
            "text/plain": [
              "<PIL.Image.Image image mode=RGB size=58x58 at 0x7FB430631B10>"
            ]
          },
          "metadata": {
            "tags": []
          }
        }
      ]
    },
    {
      "cell_type": "code",
      "metadata": {
        "id": "4pmff9hQPoB9"
      },
      "source": [
        "data = []     # initialize an empty numpy array\n",
        "image_size = 100      # image size taken is 100 here. one can take other size too\n",
        "train_images=np.asarray(np.zeros((len(train_data),image_size,image_size)))\n",
        "for i in range(len(train_data)):\n",
        "  \n",
        "  img_array = cv2.imread(train_data['filepaths'][i], cv2.IMREAD_GRAYSCALE)   # converting the image to gray scale\n",
        "\n",
        "  new_img_array = cv2.resize(img_array, (image_size, image_size))      # resizing the image array\n",
        "  train_images[i]=new_img_array\n",
        "  data.append([new_img_array, train_data['label'][i]])"
      ],
      "execution_count": null,
      "outputs": []
    },
    {
      "cell_type": "code",
      "metadata": {
        "colab": {
          "base_uri": "https://localhost:8080/",
          "height": 135
        },
        "id": "Ty9XL2R-MnBn",
        "outputId": "40885002-b67a-45c7-df09-67306acfc094"
      },
      "source": [
        "#Check image after greyscale conversion & resizing\n",
        "cv2_imshow(data[1][0])\n",
        "data[0][0].shape\n"
      ],
      "execution_count": null,
      "outputs": [
        {
          "output_type": "display_data",
          "data": {
            "image/png": "[encoded data removed]",
            "text/plain": [
              "<PIL.Image.Image image mode=L size=100x100 at 0x7FB499EFFE90>"
            ]
          },
          "metadata": {
            "tags": []
          }
        },
        {
          "output_type": "execute_result",
          "data": {
            "text/plain": [
              "(100, 100)"
            ]
          },
          "metadata": {
            "tags": []
          },
          "execution_count": 6
        }
      ]
    },
    {
      "cell_type": "markdown",
      "metadata": {
        "id": "Nx0sPgpf4EXg"
      },
      "source": [
        "## Data Pre-processing\n",
        "It is necessary to bring all the images in the same shape and size, also convert them to their pixel values because all machine learning or deep learning models accepts only the numerical data. Also we need to convert all the labels from categorical to numerical values."
      ]
    },
    {
      "cell_type": "code",
      "metadata": {
        "colab": {
          "base_uri": "https://localhost:8080/"
        },
        "id": "kC8MaKXP4G1g",
        "outputId": "cde38eb4-1016-4118-84ca-727d09774856"
      },
      "source": [
        "train_labels= np.asarray([0 if x=='male' else 1 for x in labels['label']]) #converting categorical labels to numerical labels\n",
        "label_name=['male','female']          #creating label name array based on numeric label assigned\n",
        "\n",
        "#train_label_df=pd.DataFrame(train_labels,columns=['label'])\n",
        "#print(train_label_df.head())\n",
        "\n",
        "#Reshape\n",
        "train_images=train_images.reshape(len(train_data),image_size,image_size,1)\n",
        "print(train_images.shape)\n",
        "#Normalize\n",
        "train_images=train_images/255.0\n"
      ],
      "execution_count": null,
      "outputs": [
        {
          "output_type": "stream",
          "text": [
            "(9220, 100, 100, 1)\n"
          ],
          "name": "stdout"
        }
      ]
    },
    {
      "cell_type": "markdown",
      "metadata": {
        "id": "UIk4LnjEDVsc"
      },
      "source": [
        "## Building Model & Hyperparameter tuning\n",
        "Now we are finally ready, and we can train the model.\n"
      ]
    },
    {
      "cell_type": "code",
      "metadata": {
        "id": "_tm21OqGDYxL"
      },
      "source": [
        "\n",
        "INPUT_SHAPE=(image_size,image_size,1)\n",
        "np.random.seed(seed=120)\n",
        "\n",
        "#Define Model\n",
        "def cnn_model():\n",
        "    # define sequential model\n",
        "  model = tf.keras.models.Sequential()\n",
        "  # define conv-pool layers - set 1\n",
        "  model.add(tf.keras.layers.Conv2D(filters=64, kernel_size=(2, 2), strides=(1, 1),\n",
        "  activation='relu', padding='same', input_shape=INPUT_SHAPE))\n",
        "  model.add(tf.keras.layers.MaxPooling2D(pool_size=(2, 2)))\n",
        "  # define conv-pool layers - set 2\n",
        "  model.add(tf.keras.layers.Conv2D(filters=128, kernel_size=(2, 2), strides=(1, 1),\n",
        "  activation='relu', padding='same', input_shape=INPUT_SHAPE))\n",
        "  model.add(tf.keras.layers.MaxPooling2D(pool_size=(2, 2)))\n",
        " # define conv-pool layers - set 3\n",
        "  model.add(tf.keras.layers.Conv2D(filters=256, kernel_size=(5, 5), strides=(1, 1), \n",
        "  activation='relu', padding='same', input_shape=INPUT_SHAPE))\n",
        "  model.add(tf.keras.layers.MaxPooling2D(pool_size=(2, 2)))\n",
        "  # define conv-pool layers - set 3\n",
        "  model.add(tf.keras.layers.Conv2D(filters=256, kernel_size=(9, 9), strides=(1, 1), \n",
        "  activation='relu', padding='same', input_shape=INPUT_SHAPE))\n",
        " \n",
        "  # add flatten layer\n",
        "  model.add(tf.keras.layers.Flatten())\n",
        "\n",
        "  # add dense layers with some dropout\n",
        "  model.add(tf.keras.layers.Dense(256, activation='relu'))\n",
        "  model.add(tf.keras.layers.Dropout(rate=0.3))\n",
        "  model.add(tf.keras.layers.Dense(256, activation='relu'))\n",
        "  model.add(tf.keras.layers.Dropout(rate=0.3))\n",
        "  model.add(tf.keras.layers.BatchNormalization(axis=1))\n",
        "  # add output layer\n",
        "  model.add(tf.keras.layers.Dense(2, activation='softmax'))\n",
        "  return model\n"
      ],
      "execution_count": null,
      "outputs": []
    },
    {
      "cell_type": "code",
      "metadata": {
        "colab": {
          "base_uri": "https://localhost:8080/"
        },
        "id": "AmN6LJbqSTE_",
        "outputId": "3204eda0-bc97-4c1d-bcb5-64a7c7510465"
      },
      "source": [
        "#Create Model\n",
        "model=cnn_model()\n",
        "# view model layers\n",
        "model.summary()"
      ],
      "execution_count": null,
      "outputs": [
        {
          "output_type": "stream",
          "text": [
            "Model: \"sequential\"\n",
            "_________________________________________________________________\n",
            "Layer (type)                 Output Shape              Param #   \n",
            "=================================================================\n",
            "conv2d (Conv2D)              (None, 100, 100, 64)      320       \n",
            "_________________________________________________________________\n",
            "max_pooling2d (MaxPooling2D) (None, 50, 50, 64)        0         \n",
            "_________________________________________________________________\n",
            "conv2d_1 (Conv2D)            (None, 50, 50, 128)       32896     \n",
            "_________________________________________________________________\n",
            "max_pooling2d_1 (MaxPooling2 (None, 25, 25, 128)       0         \n",
            "_________________________________________________________________\n",
            "conv2d_2 (Conv2D)            (None, 25, 25, 256)       819456    \n",
            "_________________________________________________________________\n",
            "max_pooling2d_2 (MaxPooling2 (None, 12, 12, 256)       0         \n",
            "_________________________________________________________________\n",
            "conv2d_3 (Conv2D)            (None, 12, 12, 256)       5308672   \n",
            "_________________________________________________________________\n",
            "flatten (Flatten)            (None, 36864)             0         \n",
            "_________________________________________________________________\n",
            "dense (Dense)                (None, 256)               9437440   \n",
            "_________________________________________________________________\n",
            "dropout (Dropout)            (None, 256)               0         \n",
            "_________________________________________________________________\n",
            "dense_1 (Dense)              (None, 256)               65792     \n",
            "_________________________________________________________________\n",
            "dropout_1 (Dropout)          (None, 256)               0         \n",
            "_________________________________________________________________\n",
            "batch_normalization (BatchNo (None, 256)               1024      \n",
            "_________________________________________________________________\n",
            "dense_2 (Dense)              (None, 2)                 514       \n",
            "=================================================================\n",
            "Total params: 15,666,114\n",
            "Trainable params: 15,665,602\n",
            "Non-trainable params: 512\n",
            "_________________________________________________________________\n"
          ],
          "name": "stdout"
        }
      ]
    },
    {
      "cell_type": "code",
      "metadata": {
        "id": "qm3PRX5VSgb_"
      },
      "source": [
        "# compile model\n",
        "model.compile(optimizer='adam',\n",
        "loss='sparse_categorical_crossentropy',\n",
        "metrics=['accuracy'])\n",
        "\n",
        "# Define Call Backs\n",
        "EPOCHS = 100\n",
        "#EarlyStop Callbacks\n",
        "es_callback = tf.keras.callbacks.EarlyStopping(monitor='val_loss', patience=5,\n",
        "restore_best_weights=True,\n",
        "verbose=1)\n",
        "\n",
        "# Clear any logs from previous runs\n",
        "!rm -rf ./logs/ \n",
        "log_dir = \"logs/fit/\" + datetime.datetime.now().strftime(\"%Y%m%d-%H%M%S\")\n",
        "#Tensorboard\n",
        "tensorboard_callback = TensorBoard(log_dir=log_dir, histogram_freq=1)\n",
        "%load_ext tensorboard\n"
      ],
      "execution_count": null,
      "outputs": []
    },
    {
      "cell_type": "code",
      "metadata": {
        "colab": {
          "background_save": true,
          "base_uri": "https://localhost:8080/"
        },
        "id": "cCN0TcLiTX5S",
        "outputId": "cad3eee2-ac3e-4ebf-cd90-167c5ff942c4"
      },
      "source": [
        "history = model.fit(train_images, train_labels,\n",
        "batch_size=32,\n",
        "callbacks=[es_callback,tensorboard_callback],\n",
        "validation_split=0.1, epochs=EPOCHS,\n",
        "verbose=1)\n",
        "\n",
        "# Fetch Minimum Loss stored in  model history\n",
        "loss = np.min(history.history['val_loss'])\n",
        "print(\"Minimum Loss\", loss)"
      ],
      "execution_count": null,
      "outputs": [
        {
          "output_type": "stream",
          "text": [
            "Epoch 1/100\n",
            "260/260 [==============================] - 47s 54ms/step - loss: 0.7912 - accuracy: 0.5263 - val_loss: 0.6813 - val_accuracy: 0.5542\n",
            "Epoch 2/100\n",
            "260/260 [==============================] - 12s 46ms/step - loss: 0.7210 - accuracy: 0.5365 - val_loss: 0.6915 - val_accuracy: 0.5488\n",
            "Epoch 3/100\n",
            "260/260 [==============================] - 12s 46ms/step - loss: 0.6889 - accuracy: 0.5512 - val_loss: 0.7509 - val_accuracy: 0.5488\n",
            "Epoch 4/100\n",
            "260/260 [==============================] - 12s 47ms/step - loss: 0.6824 - accuracy: 0.5717 - val_loss: 0.7818 - val_accuracy: 0.5488\n",
            "Epoch 5/100\n",
            "260/260 [==============================] - 12s 47ms/step - loss: 0.6661 - accuracy: 0.5985 - val_loss: 1.0862 - val_accuracy: 0.5488\n",
            "Epoch 6/100\n",
            "260/260 [==============================] - 12s 46ms/step - loss: 0.5817 - accuracy: 0.6970 - val_loss: 0.6953 - val_accuracy: 0.6041\n",
            "Restoring model weights from the end of the best epoch.\n",
            "Epoch 00006: early stopping\n",
            "Minimum Loss 0.6812728643417358\n"
          ],
          "name": "stdout"
        }
      ]
    },
    {
      "cell_type": "markdown",
      "metadata": {
        "id": "0eW41nTgY4At"
      },
      "source": [
        "## Evaluation of Model"
      ]
    },
    {
      "cell_type": "code",
      "metadata": {
        "colab": {
          "background_save": true,
          "base_uri": "https://localhost:8080/",
          "height": 17
        },
        "id": "QAyWsJ8dZDhn",
        "outputId": "e8c64fad-5f8c-4095-a37f-9238070daa73"
      },
      "source": [
        "%tensorboard --logdir logs/fit        #Magic Command Used to call TensorBoard \n"
      ],
      "execution_count": null,
      "outputs": [
        {
          "output_type": "display_data",
          "data": {
            "application/javascript": [
              "\n",
              "        (async () => {\n",
              "            const url = new URL(await google.colab.kernel.proxyPort(6006, {'cache': true}));\n",
              "            url.searchParams.set('tensorboardColab', 'true');\n",
              "            const iframe = document.createElement('iframe');\n",
              "            iframe.src = url;\n",
              "            iframe.setAttribute('width', '100%');\n",
              "            iframe.setAttribute('height', '800');\n",
              "            iframe.setAttribute('frameborder', 0);\n",
              "            document.body.appendChild(iframe);\n",
              "        })();\n",
              "    "
            ],
            "text/plain": [
              "<IPython.core.display.Javascript object>"
            ]
          },
          "metadata": {
            "tags": []
          }
        }
      ]
    },
    {
      "cell_type": "markdown",
      "metadata": {
        "id": "cCn-xcpUA6sv"
      },
      "source": [
        "### Save Model\n",
        "\n",
        "We will save our trained model in the directory."
      ]
    },
    {
      "cell_type": "code",
      "metadata": {
        "colab": {
          "background_save": true
        },
        "id": "fBkygxjxcwwJ"
      },
      "source": [
        "#Make Directory to save Model\n",
        "!mkdir -p saved_model\n"
      ],
      "execution_count": null,
      "outputs": []
    },
    {
      "cell_type": "code",
      "metadata": {
        "id": "M0I15tvCA_d0"
      },
      "source": [
        "model.save('saved_model/cnn_model_3')\n",
        "!ls saved_model"
      ],
      "execution_count": null,
      "outputs": []
    },
    {
      "cell_type": "code",
      "metadata": {
        "colab": {
          "background_save": true
        },
        "id": "dXli_FVy_QGS",
        "outputId": "63f0eafa-2878-4b1b-c9cc-ec0146dbffbc"
      },
      "source": [
        "#Loading the model from saved location\n",
        "loaded_model = tf.keras.models.load_model('saved_model/cnn_model_3')\n",
        "\n",
        "# Check its architecture\n",
        "loaded_model.summary()"
      ],
      "execution_count": null,
      "outputs": [
        {
          "output_type": "stream",
          "text": [
            "Model: \"sequential\"\n",
            "_________________________________________________________________\n",
            "Layer (type)                 Output Shape              Param #   \n",
            "=================================================================\n",
            "conv2d (Conv2D)              (None, 100, 100, 64)      320       \n",
            "_________________________________________________________________\n",
            "max_pooling2d (MaxPooling2D) (None, 50, 50, 64)        0         \n",
            "_________________________________________________________________\n",
            "conv2d_1 (Conv2D)            (None, 50, 50, 128)       32896     \n",
            "_________________________________________________________________\n",
            "max_pooling2d_1 (MaxPooling2 (None, 25, 25, 128)       0         \n",
            "_________________________________________________________________\n",
            "conv2d_2 (Conv2D)            (None, 25, 25, 256)       819456    \n",
            "_________________________________________________________________\n",
            "max_pooling2d_2 (MaxPooling2 (None, 12, 12, 256)       0         \n",
            "_________________________________________________________________\n",
            "conv2d_3 (Conv2D)            (None, 12, 12, 256)       5308672   \n",
            "_________________________________________________________________\n",
            "flatten (Flatten)            (None, 36864)             0         \n",
            "_________________________________________________________________\n",
            "dense (Dense)                (None, 256)               9437440   \n",
            "_________________________________________________________________\n",
            "dropout (Dropout)            (None, 256)               0         \n",
            "_________________________________________________________________\n",
            "dense_1 (Dense)              (None, 256)               65792     \n",
            "_________________________________________________________________\n",
            "dropout_1 (Dropout)          (None, 256)               0         \n",
            "_________________________________________________________________\n",
            "batch_normalization (BatchNo (None, 256)               1024      \n",
            "_________________________________________________________________\n",
            "dense_2 (Dense)              (None, 2)                 514       \n",
            "=================================================================\n",
            "Total params: 15,666,114\n",
            "Trainable params: 15,665,602\n",
            "Non-trainable params: 512\n",
            "_________________________________________________________________\n"
          ],
          "name": "stdout"
        }
      ]
    },
    {
      "cell_type": "markdown",
      "metadata": {
        "id": "IXR3v0NhcjMv"
      },
      "source": [
        "## Predict The Output For Testing Dataset 😅\n",
        "We have trained our model, evaluated it and now finally we will predict the output/target for the testing data (i.e. Test.csv)."
      ]
    },
    {
      "cell_type": "markdown",
      "metadata": {
        "id": "9tWhka4wBm7a"
      },
      "source": [
        "#### Load Test Set\n",
        "Load the test data on which final submission is to be made.\n",
        "\n",
        "Note: The Test Set doesn't contain labels only filenames.The predictions will be verified once the 'submission.csv' is uploaded."
      ]
    },
    {
      "cell_type": "code",
      "metadata": {
        "colab": {
          "background_save": true
        },
        "id": "SV1VFim2cik-"
      },
      "source": [
        "test_labels = pd.read_csv(\"/content/content/eye_gender_data/Testing_set.csv\")   # loading the test labels\n",
        "file_paths = [[fname, '/content/content/eye_gender_data/test/' + fname] for fname in test_labels['filename']]\n",
        "images = pd.DataFrame(file_paths, columns=['filename', 'filepaths'])\n",
        "test_data = pd.merge(images, labels, how = 'inner', on = 'filename')\n",
        "\n",
        "\n",
        "image_size = 100      # image size taken is 100 here, one can take other size too\n",
        "test_images=np.asarray(np.zeros((len(test_data),image_size,image_size))) #initialize numpy array\n",
        "\n",
        "for i in range(len(test_data)):\n",
        "  img_array = cv2.imread(test_data['filepaths'][i], cv2.IMREAD_GRAYSCALE)   # converting the image to gray scale\n",
        "  new_img_array = cv2.resize(img_array, (image_size, image_size))      # resizing the image array\n",
        "  test_images[i]=new_img_array\n"
      ],
      "execution_count": null,
      "outputs": []
    },
    {
      "cell_type": "code",
      "metadata": {
        "colab": {
          "background_save": true
        },
        "id": "nRlbn2eadrwd",
        "outputId": "a85b6a43-636c-47d8-cd30-d2521f82142a"
      },
      "source": [
        "#Check image after greyscale conversion & resizing\n",
        "cv2_imshow(test_images[0])\n",
        "print(\"Test Images shape:\\n\",test_images.shape)\n",
        "\n"
      ],
      "execution_count": null,
      "outputs": [
        {
          "output_type": "display_data",
          "data": {
            "image/png": "[encoded data removed]",
            "text/plain": [
              "<PIL.Image.Image image mode=L size=100x100 at 0x7FB3D034D050>"
            ]
          },
          "metadata": {
            "tags": []
          }
        },
        {
          "output_type": "stream",
          "text": [
            "Test Images shape:\n",
            " (2305, 100, 100)\n"
          ],
          "name": "stdout"
        }
      ]
    },
    {
      "cell_type": "markdown",
      "metadata": {
        "id": "AxN5KnlefyEg"
      },
      "source": [
        "## Data Pre-processing on Test Data\n",
        "\n",
        "We reshape and normalize the test images similar to what we did in training set."
      ]
    },
    {
      "cell_type": "code",
      "metadata": {
        "id": "-vFVPFxIeHn4"
      },
      "source": [
        "\n",
        "#Reshape test_images array to (length of test data,100,100,1) \n",
        "test_images=test_images.reshape(len(test_data),image_size,image_size,1)\n",
        "print(\"Test Images Shape: \\n\",test_images.shape)\n",
        "\n",
        "#Normalize image array\n",
        "test_images_scaled=test_images/255.0\n",
        "print(\"\\n Normalized/Scaled test images array \\n\",test_images_scaled[0])"
      ],
      "execution_count": null,
      "outputs": []
    },
    {
      "cell_type": "markdown",
      "metadata": {
        "id": "gYYzS6MlksDF"
      },
      "source": [
        "## Predict Test Data\n",
        "Time to predict test images using the model we trained. "
      ]
    },
    {
      "cell_type": "code",
      "metadata": {
        "id": "efO4kq_TeAR2"
      },
      "source": [
        "#Predict Test labels\n",
        "predictions = model.predict(test_images_scaled)\n",
        "print(\"Predictions:\\n \",predictions)"
      ],
      "execution_count": null,
      "outputs": []
    },
    {
      "cell_type": "code",
      "metadata": {
        "id": "WCJrgl_kfEMa"
      },
      "source": [
        "#Convert prediction probabilities to class labels\n",
        "output=np.asarray(np.zeros(len(test_data)),dtype='str')\n",
        "for i in range(len(test_data)):\n",
        "  output[i]=label_name[np.argmax(predictions[i])]\n",
        "\n",
        "print(\"Prediction labels of Test Data: \\n\",output[0:5])  "
      ],
      "execution_count": null,
      "outputs": []
    },
    {
      "cell_type": "markdown",
      "metadata": {
        "id": "12QbdzXSk6lY"
      },
      "source": [
        "## Save Predictions\n",
        "We now convert our predictions into a pandas dataframe and write it as \"submission.csv\" ."
      ]
    },
    {
      "cell_type": "code",
      "metadata": {
        "id": "FKRFJ_AugQJx"
      },
      "source": [
        "res = pd.DataFrame({'filename': test_labels['filename'], 'label': output})  # prediction is nothing but the final predictions of your model on input features of your new unseen test data\n",
        "res.to_csv(\"submission.csv\", index = False) \n",
        "\n",
        "# To download the csv file locally : Can skip this step in Jupyter\n",
        "from google.colab import files        \n",
        "files.download('submission.csv')"
      ],
      "execution_count": null,
      "outputs": []
    }
  ]
}